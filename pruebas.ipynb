{
 "cells": [
  {
   "cell_type": "markdown",
   "metadata": {},
   "source": [
    "# Lanzador Mejorado"
   ]
  },
  {
   "cell_type": "code",
   "execution_count": 1,
   "metadata": {},
   "outputs": [
    {
     "name": "stderr",
     "output_type": "stream",
     "text": [
      "/usr/lib/python3/dist-packages/scipy/__init__.py:146: UserWarning: A NumPy version >=1.17.3 and <1.25.0 is required for this version of SciPy (detected version 1.25.2\n",
      "  warnings.warn(f\"A NumPy version >={np_minversion} and <{np_maxversion}\"\n"
     ]
    },
    {
     "name": "stdout",
     "output_type": "stream",
     "text": [
      "################## Simulacion  1 de 4 ############################\n",
      "##### Modelo Demiray ####\n",
      "Consante 1:  0.02\n",
      "Consante 2:  1.0\n",
      "Penalizador:  20.0\n",
      "Numero de pasos simulados:  31\n",
      "\n",
      "Simulacion Finalizada\n",
      "Archivos temporales borrados\n",
      "################## Simulacion  2 de 4 ############################\n",
      "##### Modelo Demiray ####\n",
      "Consante 1:  0.02\n",
      "Consante 2:  5.0\n",
      "Penalizador:  20.0\n",
      "Numero de pasos simulados:  31\n",
      "\n",
      "Simulacion Finalizada\n",
      "Archivos temporales borrados\n",
      "################## Simulacion  3 de 4 ############################\n",
      "##### Modelo Demiray ####\n",
      "Consante 1:  0.1\n",
      "Consante 2:  1.0\n",
      "Penalizador:  100.0\n",
      "Numero de pasos simulados:  31\n",
      "\n",
      "Simulacion Finalizada\n",
      "Archivos temporales borrados\n",
      "################## Simulacion  4 de 4 ############################\n",
      "##### Modelo Demiray ####\n",
      "Consante 1:  0.1\n",
      "Consante 2:  5.0\n",
      "Penalizador:  100.0\n",
      "Numero de pasos simulados:  31\n",
      "\n",
      "Simulacion Finalizada\n",
      "Archivos temporales borrados\n"
     ]
    }
   ],
   "source": [
    "from launch.gradientes import Gradientes_nodales_Vulcan\n",
    "from launch.vulcan_handler import VulcanHandler\n",
    "from intervul.readpos import VulcanPosMesh\n",
    "from launch.Funciones import *\n",
    "from launch.Lanzadores import *\n",
    "import numpy as np\n",
    "import matplotlib.pyplot as plt\n",
    "import time\n",
    "import pyvista as pv\n",
    "from sklearn.metrics import mean_squared_error\n",
    "import torch\n",
    "from launch.mlp_model import MLP\n",
    "import random\n",
    "\n",
    "\n",
    "\n",
    "\n",
    "#constantes_utilizadas = []\n",
    "\n",
    "Nombre_info_salida = '_Demiray_cubo_'  ## Nombre caso EJ: _Tracion_Demiray_\n",
    "Ubicacion_salida = 'Resultados/cubo_demiray/'\n",
    "\n",
    "rangos_constantes = [[0.02,0.1,2],[1,5,2]]\n",
    "\n",
    "constantes = Combinaciones(rangos_constantes)\n",
    "\n",
    "\n",
    "\n",
    "for i,const in enumerate(constantes):\n",
    "    print('################## Simulacion ', str(i+1),'de', len(constantes), '############################')\n",
    "    #rangos_constantes = [[0.02,0.1,16],[1,5,16]]\n",
    "    a,b = const\n",
    "    desplazamientos, tensiones, gradientes, malla = Vulcan().Cubo_demiray(a,b)\n",
    "    #constantes_utilizadas.append(const)\n",
    "    \n",
    "    nombre_T = Ubicacion_salida + 'Tensiones' + Nombre_info_salida + str(i) + '.npz' \n",
    "    nombre_D = Ubicacion_salida + 'Desplazamientos' + Nombre_info_salida  + str(i) + '.npz'\n",
    "    nombre_G = Ubicacion_salida + 'Gradientes' + Nombre_info_salida  + str(i) + '.npz'\n",
    "\n",
    "    np.savez_compressed(nombre_T,tensiones)\n",
    "    np.savez_compressed(nombre_D,desplazamientos)\n",
    "    np.savez_compressed(nombre_G,gradientes[0])"
   ]
  },
  {
   "cell_type": "code",
   "execution_count": null,
   "metadata": {},
   "outputs": [],
   "source": []
  },
  {
   "cell_type": "markdown",
   "metadata": {},
   "source": [
    "# SVD mejorado"
   ]
  },
  {
   "cell_type": "code",
   "execution_count": 3,
   "metadata": {},
   "outputs": [
    {
     "name": "stdout",
     "output_type": "stream",
     "text": [
      "\n",
      " Variables Desplazmaientos\n",
      "Archivos Totales:  12\n",
      "Numero de txt con la variable  Desplazmaientos 3\n",
      "Matriz de snaptchot armada en:  0.0013549129168192546 [min]\n",
      "Archivos Totales:  12\n",
      "Numero de txt con la variable  Desplazmaientos 3\n",
      "Matriz de snaptchot armada en:  0.0010937134424845378 [min]\n",
      "(27783, 248)\n",
      "SVD Realizado en:  0.03848498264948527 [min]\n",
      "Energía acumulada en  Desplazmaientos es de:  99.99999302470255 %\n",
      "Archivos escritos en SVD/Cubo2/ \n",
      "\n",
      "\n",
      " Variables Gradientes\n",
      "Archivos Totales:  12\n",
      "Numero de txt con la variable  Gradientes 3\n",
      "Matriz de snaptchot armada en:  0.006134708722432454 [min]\n",
      "Archivos Totales:  12\n",
      "Numero de txt con la variable  Gradientes 3\n",
      "Matriz de snaptchot armada en:  0.006060802936553955 [min]\n",
      "(83349, 248)\n",
      "SVD Realizado en:  0.10549456675847371 [min]\n",
      "Energía acumulada en  Gradientes es de:  99.99994351352119 %\n",
      "Archivos escritos en SVD/Cubo2/ \n",
      "\n",
      "\n",
      " Variables Tensiones\n",
      "Archivos Totales:  12\n",
      "Numero de txt con la variable  Tensiones 3\n",
      "Matriz de snaptchot armada en:  0.004177220662434896 [min]\n",
      "Archivos Totales:  12\n",
      "Numero de txt con la variable  Tensiones 3\n",
      "Matriz de snaptchot armada en:  0.0040590882301330565 [min]\n",
      "(55566, 248)\n",
      "SVD Realizado en:  0.056860085328420004 [min]\n",
      "Energía acumulada en  Tensiones es de:  99.99999999717349 %\n",
      "Archivos escritos en SVD/Cubo2/ \n",
      "\n"
     ]
    }
   ],
   "source": [
    "from launch.Funciones import *\n",
    "from launch.ReduccionOrden import *\n",
    "import numpy as np\n",
    "import matplotlib.pyplot as plt\n",
    "\n",
    "\n",
    "Direcciones_fom = ['Resultados/cubo_demiray/','Resultados/cubo_demiray2/'] \n",
    "Direccion_ROM  = 'SVD/Cubo2/'\n",
    "\n",
    "\n",
    "nombres_variables_fom  = [['Desplazamientos_Demiray_cubo_',\n",
    "                           'Gradientes_Demiray_cubo_',\n",
    "                           'Tensiones_Demiray_cubo_'],\n",
    "\n",
    "                          ['Desplazamientos_Demiray_cubo_',\n",
    "                           'Gradientes_Demiray_cubo_',\n",
    "                           'Tensiones_Demiray_cubo_'],\n",
    "]\n",
    "\n",
    "variables_rom = ['Desplazmaientos', 'Gradientes','Tensiones' ]\n",
    "\n",
    "#info_FOM = [Direccion_fom,nombre_fom]\n",
    "\n",
    "infos_FOM = []\n",
    "for it,dir_fom in enumerate(Direcciones_fom):\n",
    "    for it2, nom_var_fom in enumerate(nombres_variables_fom[it]):\n",
    "        info_FOM = [dir_fom,nom_var_fom]\n",
    "        infos_FOM.append(info_FOM)\n",
    "\n",
    "\n",
    "Datos_unir = []\n",
    "for it, var_fom in enumerate(variables_rom):\n",
    "    aux = [var_fom]\n",
    "    for i in range(int(len(infos_FOM)/len(variables_rom))):\n",
    "        aux.append(infos_FOM[it -(len(variables_rom))*i])\n",
    "    Datos_unir.append(aux)\n",
    "\n",
    "for it, info_FOM in enumerate(Datos_unir):\n",
    "    print('\\n Variables', info_FOM[0] )\n",
    "    Variable_str = info_FOM[0]\n",
    "    MS = Armado_MSnaptchots(info_FOM[1],Variable_str)#Matriz Snaptchot\n",
    "\n",
    "    for i in info_FOM[2:]:\n",
    "        MS = np.concatenate((MS,Armado_MSnaptchots(i,Variable_str)),axis =1)\n",
    "        Mean = np.mean(MS,axis = 1)\n",
    "\n",
    "        for i in range(len(MS[0,:])):\n",
    "            MS[:,i] = MS[:,i] - Mean\n",
    "\n",
    "    nombre_media = Direccion_ROM + 'Mean_' +Variable_str + '.txt'\n",
    "    np.savetxt(nombre_media,Mean)\n",
    "    print(MS.shape)\n",
    "    SVD_Modos(MS,[Direccion_ROM,Variable_str],Grafico_r_variable = False)\n",
    "\n",
    "    del MS"
   ]
  },
  {
   "cell_type": "code",
   "execution_count": 20,
   "metadata": {},
   "outputs": [],
   "source": [
    "import dask.array as da\n",
    "u,s,v = da.linalg.svd_compressed(da.array(MS),k=8)"
   ]
  },
  {
   "cell_type": "code",
   "execution_count": 4,
   "metadata": {},
   "outputs": [
    {
     "name": "stdout",
     "output_type": "stream",
     "text": [
      "\n",
      " Variables Desplazmaientos\n",
      "Archivos Totales:  12\n",
      "Numero de txt con la variable  Desplazmaientos 3\n",
      "Matriz de snaptchot armada en:  0.0015096505482991537 [min]\n",
      "Archivos Totales:  12\n",
      "Numero de txt con la variable  Desplazmaientos 3\n",
      "Matriz de snaptchot armada en:  0.0012004892031351724 [min]\n",
      "(27783, 248)\n",
      "SVD Realizado en:  0.0703346292177836 [min]\n",
      "Energía acumulada en  Desplazmaientos es de:  99.99999302470445 %\n",
      "Archivos escritos en SVD/Cubo2/ \n",
      "\n",
      "\n",
      " Variables Gradientes\n",
      "Archivos Totales:  12\n",
      "Numero de txt con la variable  Gradientes 3\n",
      "Matriz de snaptchot armada en:  0.006279174486796061 [min]\n",
      "Archivos Totales:  12\n",
      "Numero de txt con la variable  Gradientes 3\n",
      "Matriz de snaptchot armada en:  0.0077364603678385414 [min]\n",
      "(83349, 248)\n",
      "SVD Realizado en:  0.22383707364400227 [min]\n",
      "Energía acumulada en  Gradientes es de:  99.99994351352379 %\n",
      "Archivos escritos en SVD/Cubo2/ \n",
      "\n",
      "\n",
      " Variables Tensiones\n",
      "Archivos Totales:  12\n",
      "Numero de txt con la variable  Tensiones 3\n",
      "Matriz de snaptchot armada en:  0.00463556448618571 [min]\n",
      "Archivos Totales:  12\n",
      "Numero de txt con la variable  Tensiones 3\n",
      "Matriz de snaptchot armada en:  0.005054799715677897 [min]\n",
      "(55566, 248)\n",
      "SVD Realizado en:  0.14370776812235514 [min]\n",
      "Energía acumulada en  Tensiones es de:  99.9999999981376 %\n",
      "Archivos escritos en SVD/Cubo2/ \n",
      "\n"
     ]
    }
   ],
   "source": [
    "from launch.Funciones import *\n",
    "from launch.ReduccionOrden import *\n",
    "import numpy as np\n",
    "import matplotlib.pyplot as plt\n",
    "\n",
    "\n",
    "Direcciones_fom = ['Resultados/cubo_demiray/','Resultados/cubo_demiray2/'] \n",
    "Direccion_ROM  = 'SVD/Cubo2/'\n",
    "\n",
    "\n",
    "nombres_variables_fom  = [['Desplazamientos_Demiray_cubo_',\n",
    "                           'Gradientes_Demiray_cubo_',\n",
    "                           'Tensiones_Demiray_cubo_'],\n",
    "\n",
    "                          ['Desplazamientos_Demiray_cubo_',\n",
    "                           'Gradientes_Demiray_cubo_',\n",
    "                           'Tensiones_Demiray_cubo_'],\n",
    "]\n",
    "\n",
    "variables_rom = ['Desplazmaientos', 'Gradientes','Tensiones' ]\n",
    "\n",
    "#info_FOM = [Direccion_fom,nombre_fom]\n",
    "\n",
    "infos_FOM = []\n",
    "for it,dir_fom in enumerate(Direcciones_fom):\n",
    "    for it2, nom_var_fom in enumerate(nombres_variables_fom[it]):\n",
    "        info_FOM = [dir_fom,nom_var_fom]\n",
    "        infos_FOM.append(info_FOM)\n",
    "\n",
    "\n",
    "Datos_unir = []\n",
    "for it, var_fom in enumerate(variables_rom):\n",
    "    aux = [var_fom]\n",
    "    for i in range(int(len(infos_FOM)/len(variables_rom))):\n",
    "        aux.append(infos_FOM[it -(len(variables_rom))*i])\n",
    "    Datos_unir.append(aux)\n",
    "\n",
    "for it, info_FOM in enumerate(Datos_unir):\n",
    "    print('\\n Variables', info_FOM[0] )\n",
    "    Variable_str = info_FOM[0]\n",
    "    MS = Armado_MSnaptchots(info_FOM[1],Variable_str)#Matriz Snaptchot\n",
    "\n",
    "    for i in info_FOM[2:]:\n",
    "        MS = np.concatenate((MS,Armado_MSnaptchots(i,Variable_str)),axis =1)\n",
    "        Mean = np.mean(MS,axis = 1)\n",
    "\n",
    "        for i in range(len(MS[0,:])):\n",
    "            MS[:,i] = MS[:,i] - Mean\n",
    "\n",
    "    nombre_media = Direccion_ROM + 'Mean_' +Variable_str + '.txt'\n",
    "    np.savetxt(nombre_media,Mean)\n",
    "    print(MS.shape)\n",
    "    SVD_Modos_dask(MS,[Direccion_ROM,Variable_str],Grafico_r_variable = False)\n",
    "\n",
    "    del MS"
   ]
  },
  {
   "cell_type": "code",
   "execution_count": 27,
   "metadata": {},
   "outputs": [
    {
     "data": {
      "text/plain": [
       "array([5.51934472e+01, 2.47837273e-04, 2.56292494e-11, 2.16162480e-11,\n",
       "       1.88867976e-11, 1.86672219e-11, 1.77473393e-11, 1.75447887e-11])"
      ]
     },
     "execution_count": 27,
     "metadata": {},
     "output_type": "execute_result"
    }
   ],
   "source": [
    "np.array(s)"
   ]
  },
  {
   "cell_type": "code",
   "execution_count": null,
   "metadata": {},
   "outputs": [],
   "source": []
  },
  {
   "cell_type": "markdown",
   "metadata": {},
   "source": [
    "# Pruebas SVD"
   ]
  },
  {
   "cell_type": "code",
   "execution_count": 1,
   "metadata": {},
   "outputs": [
    {
     "name": "stderr",
     "output_type": "stream",
     "text": [
      "/usr/lib/python3/dist-packages/scipy/__init__.py:146: UserWarning: A NumPy version >=1.17.3 and <1.25.0 is required for this version of SciPy (detected version 1.25.2\n",
      "  warnings.warn(f\"A NumPy version >={np_minversion} and <{np_maxversion}\"\n"
     ]
    },
    {
     "name": "stdout",
     "output_type": "stream",
     "text": [
      "####### Modelo Mooney Rivlin #######\n",
      "Consante 1:  0.5\n",
      "Consante 2:  0\n",
      "Consante 3:  3.14\n",
      "Penalizador:  5.0\n",
      "Numero de pasos simulados:  31\n",
      "\n",
      "Simulacion Finalizada\n",
      "J global:  1.018503275063248\n",
      "Archivos temporales borrados\n"
     ]
    }
   ],
   "source": [
    "from launch.Lanzadores import *\n",
    "import numpy as np\n",
    "\n",
    "a , b = 0.5 , 3.14\n",
    "desplazamientos, tensiones, gradientes, malla = Vulcan().Biaxial_Mooney(a,0,b)\n",
    "\n",
    "D = np.zeros([3*len(desplazamientos[0]),len(desplazamientos)])\n",
    "ite = 0\n",
    "\n",
    "for jt, j in enumerate(desplazamientos):\n",
    "    D[:,ite] = j.reshape(-1)\n",
    "    ite = ite +1\n",
    "\n",
    "grad = gradientes[0]\n",
    "\n",
    "\n",
    "\n",
    "Modos_numpy_dips =  np.loadtxt('SVD/Biaxial/Modos_Desplazmaientos.txt')\n",
    "Modos_numpy_grad =  np.loadtxt('SVD/Biaxial/Modos_Gradientes.txt')\n",
    "\n",
    "Modos_dask_dips =  np.loadtxt('SVD/Biaxial2/Modos_Desplazmaientos.txt')\n",
    "Modos_dask_grad =  np.loadtxt('SVD/Biaxial2/Modos_Gradientes.txt')"
   ]
  },
  {
   "cell_type": "code",
   "execution_count": 2,
   "metadata": {},
   "outputs": [
    {
     "name": "stdout",
     "output_type": "stream",
     "text": [
      "\n"
     ]
    }
   ],
   "source": [
    "import pyvista as pv\n",
    "from launch.Funciones import *\n",
    "mesh = pv.read(malla)\n",
    "mesh.clear_data()\n",
    "\n",
    "\n",
    "#################################################################### Desplazamientos ############################################################################\n",
    "\n",
    "coef_desp_numpy = np.linalg.lstsq(Modos_numpy_dips , D[:,-1]  )\n",
    "coef_desp_numpy = coef_desp_numpy[0]\n",
    "\n",
    "coef_desp_dask = np.linalg.lstsq(Modos_dask_dips,D[:,-1])\n",
    "coef_desp_dask = coef_desp_dask[0]\n",
    "\n",
    "\n",
    "\n"
   ]
  },
  {
   "cell_type": "code",
   "execution_count": 3,
   "metadata": {},
   "outputs": [
    {
     "data": {
      "application/vnd.jupyter.widget-view+json": {
       "model_id": "f1fca677b0494aaf972cdccf3c2d38f5",
       "version_major": 2,
       "version_minor": 0
      },
      "text/plain": [
       "Widget(value=\"<iframe src='http://localhost:34503/index.html?ui=P_0x7f835e6d8af0_0&reconnect=auto' style='widt…"
      ]
     },
     "metadata": {},
     "output_type": "display_data"
    }
   ],
   "source": [
    "mesh['Desplazamientos'] = ManejoDatos(D[:,-1],3).Magnitud()\n",
    "mesh.set_active_scalars('Desplazamientos') \n",
    "mesh.plot()"
   ]
  },
  {
   "cell_type": "code",
   "execution_count": 4,
   "metadata": {},
   "outputs": [
    {
     "data": {
      "application/vnd.jupyter.widget-view+json": {
       "model_id": "f66d038d414d49dabab159257beeadf5",
       "version_major": 2,
       "version_minor": 0
      },
      "text/plain": [
       "Widget(value=\"<iframe src='http://localhost:34503/index.html?ui=P_0x7f835e6d8b50_1&reconnect=auto' style='widt…"
      ]
     },
     "metadata": {},
     "output_type": "display_data"
    }
   ],
   "source": [
    "aux0 = np.matmul(Modos_numpy_dips,coef_desp_numpy.T) \n",
    "mesh['Desplazamientos_Numpy'] = ManejoDatos(aux0,3).Magnitud()\n",
    "mesh.set_active_scalars('Desplazamientos_Numpy') \n",
    "mesh.plot()"
   ]
  },
  {
   "cell_type": "code",
   "execution_count": 5,
   "metadata": {},
   "outputs": [
    {
     "data": {
      "application/vnd.jupyter.widget-view+json": {
       "model_id": "6ee73fe659294c1eb26ebe1da38c3a67",
       "version_major": 2,
       "version_minor": 0
      },
      "text/plain": [
       "Widget(value=\"<iframe src='http://localhost:34503/index.html?ui=P_0x7f83a05d3310_2&reconnect=auto' style='widt…"
      ]
     },
     "metadata": {},
     "output_type": "display_data"
    }
   ],
   "source": [
    "aux1 = np.matmul(Modos_dask_dips,coef_desp_dask.T)\n",
    "mesh['Desplazamientos_DASK'] = ManejoDatos(aux1,3).Magnitud()\n",
    "mesh.set_active_scalars('Desplazamientos_DASK') \n",
    "mesh.plot()"
   ]
  },
  {
   "cell_type": "markdown",
   "metadata": {},
   "source": [
    "# Gradientes"
   ]
  },
  {
   "cell_type": "code",
   "execution_count": 6,
   "metadata": {},
   "outputs": [],
   "source": [
    "#################################################################### Desplazamientos ############################################################################\n",
    "coef_grad_numpy = np.linalg.lstsq(Modos_numpy_grad,grad[:,-1])\n",
    "coef_grad_numpy = coef_grad_numpy[0]\n",
    "\n",
    "coef_grad_dask = np.linalg.lstsq(Modos_dask_grad,grad[:,-1])\n",
    "coef_grad_dask = coef_grad_dask[0]\n"
   ]
  },
  {
   "cell_type": "code",
   "execution_count": 18,
   "metadata": {},
   "outputs": [
    {
     "data": {
      "application/vnd.jupyter.widget-view+json": {
       "model_id": "3b47172f125d4ecfa2c941399c79f94b",
       "version_major": 2,
       "version_minor": 0
      },
      "text/plain": [
       "Widget(value=\"<iframe src='http://localhost:34503/index.html?ui=P_0x7f813af7c610_13&reconnect=auto' style='wid…"
      ]
     },
     "metadata": {},
     "output_type": "display_data"
    }
   ],
   "source": [
    "mesh['Gradientes'] = ManejoDatos(grad[:,-1],9).Magnitud()\n",
    "mesh.set_active_scalars('Gradientes') \n",
    "mesh.plot()"
   ]
  },
  {
   "cell_type": "code",
   "execution_count": 8,
   "metadata": {},
   "outputs": [
    {
     "data": {
      "application/vnd.jupyter.widget-view+json": {
       "model_id": "533bff65ce0f4879a559eedeb9f2a629",
       "version_major": 2,
       "version_minor": 0
      },
      "text/plain": [
       "Widget(value=\"<iframe src='http://localhost:34503/index.html?ui=P_0x7f835dca4730_4&reconnect=auto' style='widt…"
      ]
     },
     "metadata": {},
     "output_type": "display_data"
    }
   ],
   "source": [
    "grad_numpy = np.matmul(Modos_numpy_grad,coef_grad_numpy.T)\n",
    "mesh['Gradientes_Numpy'] = ManejoDatos(grad_numpy,9).Magnitud()\n",
    "mesh.set_active_scalars('Gradientes_Numpy') \n",
    "mesh.plot()"
   ]
  },
  {
   "cell_type": "code",
   "execution_count": 9,
   "metadata": {},
   "outputs": [
    {
     "data": {
      "application/vnd.jupyter.widget-view+json": {
       "model_id": "b8035de5d7fd4f3680b34efce74effa1",
       "version_major": 2,
       "version_minor": 0
      },
      "text/plain": [
       "Widget(value=\"<iframe src='http://localhost:34503/index.html?ui=P_0x7f835d1512d0_5&reconnect=auto' style='widt…"
      ]
     },
     "metadata": {},
     "output_type": "display_data"
    }
   ],
   "source": [
    "grad_dask = np.matmul(Modos_dask_grad,coef_grad_dask.T)\n",
    "mesh['Gradientes_Dask'] = ManejoDatos(grad_dask,9).Magnitud()\n",
    "mesh.set_active_scalars('Gradientes_Dask') \n",
    "mesh.plot()"
   ]
  },
  {
   "cell_type": "code",
   "execution_count": 10,
   "metadata": {},
   "outputs": [
    {
     "name": "stdout",
     "output_type": "stream",
     "text": [
      "Error Promedio 0.426184578 %\n",
      "None\n"
     ]
    },
    {
     "data": {
      "application/vnd.jupyter.widget-view+json": {
       "model_id": "ddb7ea656f1a41a1b94a7251b3069b02",
       "version_major": 2,
       "version_minor": 0
      },
      "text/plain": [
       "Widget(value=\"<iframe src='http://localhost:34503/index.html?ui=P_0x7f835d153460_6&reconnect=auto' style='widt…"
      ]
     },
     "metadata": {},
     "output_type": "display_data"
    }
   ],
   "source": [
    "ERROR_numpy = error_mesh(grad[:,-1],grad_numpy)\n",
    "mesh['Error numpy'] = ManejoDatos(ERROR_numpy,9).Magnitud()\n",
    "mesh.set_active_scalars('Error numpy') \n",
    "mesh.plot()"
   ]
  },
  {
   "cell_type": "code",
   "execution_count": 11,
   "metadata": {},
   "outputs": [
    {
     "name": "stdout",
     "output_type": "stream",
     "text": [
      "Error Promedio 0.0390347205 %\n",
      "None\n"
     ]
    },
    {
     "data": {
      "application/vnd.jupyter.widget-view+json": {
       "model_id": "603c7352ec0f461f8c4be237e103bbb8",
       "version_major": 2,
       "version_minor": 0
      },
      "text/plain": [
       "Widget(value=\"<iframe src='http://localhost:34503/index.html?ui=P_0x7f835d153190_7&reconnect=auto' style='widt…"
      ]
     },
     "metadata": {},
     "output_type": "display_data"
    }
   ],
   "source": [
    "ERROR_daks = error_mesh(grad[:,-1],grad_dask)\n",
    "mesh['Error Dask'] = ManejoDatos(ERROR_daks,9).Magnitud()\n",
    "mesh.set_active_scalars('Error Dask') \n",
    "mesh.plot()"
   ]
  },
  {
   "cell_type": "markdown",
   "metadata": {},
   "source": [
    "# Reconstruccion ML"
   ]
  },
  {
   "cell_type": "code",
   "execution_count": 12,
   "metadata": {},
   "outputs": [
    {
     "data": {
      "application/vnd.jupyter.widget-view+json": {
       "model_id": "9855b23a913240898aec2f7785c6b490",
       "version_major": 2,
       "version_minor": 0
      },
      "text/plain": [
       "Widget(value=\"<iframe src='http://localhost:34503/index.html?ui=P_0x7f835d153730_8&reconnect=auto' style='widt…"
      ]
     },
     "metadata": {},
     "output_type": "display_data"
    }
   ],
   "source": [
    "from launch.mlp_model import MLP\n",
    "import torch\n",
    "mlp = MLP(8,8)\n",
    "mlp.load_state_dict(torch.load(\"mlp_models_dis2grad/mlp_model.pt\"))\n",
    "\n",
    "coef_grad_numpy_ml = mlp(torch.asarray(coef_desp_numpy.T).double()).detach().numpy()\n",
    "\n",
    "grad_numpy_ml = np.matmul(Modos_numpy_grad,coef_grad_numpy_ml.T) \n",
    "mesh['Gradientes_Numpy_ML'] = ManejoDatos(grad_numpy_ml,9).Magnitud()\n",
    "mesh.set_active_scalars('Gradientes_Numpy_ML') \n",
    "mesh.plot()\n"
   ]
  },
  {
   "cell_type": "code",
   "execution_count": 21,
   "metadata": {},
   "outputs": [
    {
     "ename": "RuntimeError",
     "evalue": "CUDA error: unspecified launch failure\nCUDA kernel errors might be asynchronously reported at some other API call, so the stacktrace below might be incorrect.\nFor debugging consider passing CUDA_LAUNCH_BLOCKING=1.\nCompile with `TORCH_USE_CUDA_DSA` to enable device-side assertions.\n",
     "output_type": "error",
     "traceback": [
      "\u001b[0;31m---------------------------------------------------------------------------\u001b[0m",
      "\u001b[0;31mRuntimeError\u001b[0m                              Traceback (most recent call last)",
      "Cell \u001b[0;32mIn[21], line 4\u001b[0m\n\u001b[1;32m      2\u001b[0m \u001b[39mimport\u001b[39;00m \u001b[39mtorch\u001b[39;00m\n\u001b[1;32m      3\u001b[0m mlp \u001b[39m=\u001b[39m MLP(\u001b[39m25\u001b[39m,\u001b[39m25\u001b[39m)\n\u001b[0;32m----> 4\u001b[0m mlp\u001b[39m.\u001b[39mload_state_dict(torch\u001b[39m.\u001b[39;49mload(\u001b[39m\"\u001b[39;49m\u001b[39mmlp_models_dis2grad/mlp_model_todos_das.pt\u001b[39;49m\u001b[39m\"\u001b[39;49m))\n\u001b[1;32m      6\u001b[0m coef_grad_dask_ml \u001b[39m=\u001b[39m mlp(torch\u001b[39m.\u001b[39masarray(coef_desp_dask\u001b[39m.\u001b[39mT)\u001b[39m.\u001b[39mdouble())\u001b[39m.\u001b[39mdetach()\u001b[39m.\u001b[39mnumpy() \n\u001b[1;32m      8\u001b[0m grad_dask_ml \u001b[39m=\u001b[39m np\u001b[39m.\u001b[39mmatmul(Modos_dask_grad,coef_grad_dask_ml\u001b[39m.\u001b[39mT)  \u001b[39m+\u001b[39m np\u001b[39m.\u001b[39mloadtxt(\u001b[39m'\u001b[39m\u001b[39mSVD/Biaxial2/Mean_Gradientes.txt\u001b[39m\u001b[39m'\u001b[39m) \n",
      "File \u001b[0;32m~/.local/lib/python3.10/site-packages/torch/serialization.py:809\u001b[0m, in \u001b[0;36mload\u001b[0;34m(f, map_location, pickle_module, weights_only, **pickle_load_args)\u001b[0m\n\u001b[1;32m    807\u001b[0m             \u001b[39mexcept\u001b[39;00m \u001b[39mRuntimeError\u001b[39;00m \u001b[39mas\u001b[39;00m e:\n\u001b[1;32m    808\u001b[0m                 \u001b[39mraise\u001b[39;00m pickle\u001b[39m.\u001b[39mUnpicklingError(UNSAFE_MESSAGE \u001b[39m+\u001b[39m \u001b[39mstr\u001b[39m(e)) \u001b[39mfrom\u001b[39;00m \u001b[39mNone\u001b[39m\n\u001b[0;32m--> 809\u001b[0m         \u001b[39mreturn\u001b[39;00m _load(opened_zipfile, map_location, pickle_module, \u001b[39m*\u001b[39;49m\u001b[39m*\u001b[39;49mpickle_load_args)\n\u001b[1;32m    810\u001b[0m \u001b[39mif\u001b[39;00m weights_only:\n\u001b[1;32m    811\u001b[0m     \u001b[39mtry\u001b[39;00m:\n",
      "File \u001b[0;32m~/.local/lib/python3.10/site-packages/torch/serialization.py:1172\u001b[0m, in \u001b[0;36m_load\u001b[0;34m(zip_file, map_location, pickle_module, pickle_file, **pickle_load_args)\u001b[0m\n\u001b[1;32m   1170\u001b[0m unpickler \u001b[39m=\u001b[39m UnpicklerWrapper(data_file, \u001b[39m*\u001b[39m\u001b[39m*\u001b[39mpickle_load_args)\n\u001b[1;32m   1171\u001b[0m unpickler\u001b[39m.\u001b[39mpersistent_load \u001b[39m=\u001b[39m persistent_load\n\u001b[0;32m-> 1172\u001b[0m result \u001b[39m=\u001b[39m unpickler\u001b[39m.\u001b[39;49mload()\n\u001b[1;32m   1174\u001b[0m torch\u001b[39m.\u001b[39m_utils\u001b[39m.\u001b[39m_validate_loaded_sparse_tensors()\n\u001b[1;32m   1176\u001b[0m \u001b[39mreturn\u001b[39;00m result\n",
      "File \u001b[0;32m~/.local/lib/python3.10/site-packages/torch/serialization.py:1142\u001b[0m, in \u001b[0;36m_load.<locals>.persistent_load\u001b[0;34m(saved_id)\u001b[0m\n\u001b[1;32m   1140\u001b[0m \u001b[39melse\u001b[39;00m:\n\u001b[1;32m   1141\u001b[0m     nbytes \u001b[39m=\u001b[39m numel \u001b[39m*\u001b[39m torch\u001b[39m.\u001b[39m_utils\u001b[39m.\u001b[39m_element_size(dtype)\n\u001b[0;32m-> 1142\u001b[0m     typed_storage \u001b[39m=\u001b[39m load_tensor(dtype, nbytes, key, _maybe_decode_ascii(location))\n\u001b[1;32m   1144\u001b[0m \u001b[39mreturn\u001b[39;00m typed_storage\n",
      "File \u001b[0;32m~/.local/lib/python3.10/site-packages/torch/serialization.py:1116\u001b[0m, in \u001b[0;36m_load.<locals>.load_tensor\u001b[0;34m(dtype, numel, key, location)\u001b[0m\n\u001b[1;32m   1112\u001b[0m storage \u001b[39m=\u001b[39m zip_file\u001b[39m.\u001b[39mget_storage_from_record(name, numel, torch\u001b[39m.\u001b[39mUntypedStorage)\u001b[39m.\u001b[39m_typed_storage()\u001b[39m.\u001b[39m_untyped_storage\n\u001b[1;32m   1113\u001b[0m \u001b[39m# TODO: Once we decide to break serialization FC, we can\u001b[39;00m\n\u001b[1;32m   1114\u001b[0m \u001b[39m# stop wrapping with TypedStorage\u001b[39;00m\n\u001b[1;32m   1115\u001b[0m typed_storage \u001b[39m=\u001b[39m torch\u001b[39m.\u001b[39mstorage\u001b[39m.\u001b[39mTypedStorage(\n\u001b[0;32m-> 1116\u001b[0m     wrap_storage\u001b[39m=\u001b[39mrestore_location(storage, location),\n\u001b[1;32m   1117\u001b[0m     dtype\u001b[39m=\u001b[39mdtype,\n\u001b[1;32m   1118\u001b[0m     _internal\u001b[39m=\u001b[39m\u001b[39mTrue\u001b[39;00m)\n\u001b[1;32m   1120\u001b[0m \u001b[39mif\u001b[39;00m typed_storage\u001b[39m.\u001b[39m_data_ptr() \u001b[39m!=\u001b[39m \u001b[39m0\u001b[39m:\n\u001b[1;32m   1121\u001b[0m     loaded_storages[key] \u001b[39m=\u001b[39m typed_storage\n",
      "File \u001b[0;32m~/.local/lib/python3.10/site-packages/torch/serialization.py:217\u001b[0m, in \u001b[0;36mdefault_restore_location\u001b[0;34m(storage, location)\u001b[0m\n\u001b[1;32m    215\u001b[0m \u001b[39mdef\u001b[39;00m \u001b[39mdefault_restore_location\u001b[39m(storage, location):\n\u001b[1;32m    216\u001b[0m     \u001b[39mfor\u001b[39;00m _, _, fn \u001b[39min\u001b[39;00m _package_registry:\n\u001b[0;32m--> 217\u001b[0m         result \u001b[39m=\u001b[39m fn(storage, location)\n\u001b[1;32m    218\u001b[0m         \u001b[39mif\u001b[39;00m result \u001b[39mis\u001b[39;00m \u001b[39mnot\u001b[39;00m \u001b[39mNone\u001b[39;00m:\n\u001b[1;32m    219\u001b[0m             \u001b[39mreturn\u001b[39;00m result\n",
      "File \u001b[0;32m~/.local/lib/python3.10/site-packages/torch/serialization.py:187\u001b[0m, in \u001b[0;36m_cuda_deserialize\u001b[0;34m(obj, location)\u001b[0m\n\u001b[1;32m    185\u001b[0m         \u001b[39mreturn\u001b[39;00m torch\u001b[39m.\u001b[39mUntypedStorage(obj\u001b[39m.\u001b[39mnbytes(), device\u001b[39m=\u001b[39mtorch\u001b[39m.\u001b[39mdevice(location))\n\u001b[1;32m    186\u001b[0m \u001b[39melse\u001b[39;00m:\n\u001b[0;32m--> 187\u001b[0m     \u001b[39mreturn\u001b[39;00m obj\u001b[39m.\u001b[39;49mcuda(device)\n",
      "File \u001b[0;32m~/.local/lib/python3.10/site-packages/torch/_utils.py:84\u001b[0m, in \u001b[0;36m_cuda\u001b[0;34m(self, device, non_blocking, **kwargs)\u001b[0m\n\u001b[1;32m     80\u001b[0m \u001b[39melse\u001b[39;00m:\n\u001b[1;32m     81\u001b[0m     untyped_storage \u001b[39m=\u001b[39m torch\u001b[39m.\u001b[39mUntypedStorage(\n\u001b[1;32m     82\u001b[0m         \u001b[39mself\u001b[39m\u001b[39m.\u001b[39msize(), device\u001b[39m=\u001b[39mtorch\u001b[39m.\u001b[39mdevice(\u001b[39m\"\u001b[39m\u001b[39mcuda\u001b[39m\u001b[39m\"\u001b[39m)\n\u001b[1;32m     83\u001b[0m     )\n\u001b[0;32m---> 84\u001b[0m     untyped_storage\u001b[39m.\u001b[39;49mcopy_(\u001b[39mself\u001b[39;49m, non_blocking)\n\u001b[1;32m     85\u001b[0m     \u001b[39mreturn\u001b[39;00m untyped_storage\n",
      "\u001b[0;31mRuntimeError\u001b[0m: CUDA error: unspecified launch failure\nCUDA kernel errors might be asynchronously reported at some other API call, so the stacktrace below might be incorrect.\nFor debugging consider passing CUDA_LAUNCH_BLOCKING=1.\nCompile with `TORCH_USE_CUDA_DSA` to enable device-side assertions.\n"
     ]
    }
   ],
   "source": [
    "from launch.mlp_model import MLP\n",
    "import torch\n",
    "mlp = MLP(25,25)\n",
    "mlp.load_state_dict(torch.load(\"mlp_models_dis2grad/mlp_model_todos_das.pt\"))\n",
    "\n",
    "coef_grad_dask_ml = mlp(torch.asarray(coef_desp_dask.T).double()).detach().numpy() \n",
    "\n",
    "grad_dask_ml = np.matmul(Modos_dask_grad,coef_grad_dask_ml.T)  + np.loadtxt('SVD/Biaxial2/Mean_Gradientes.txt') \n",
    "mesh['Gradientes_Dask_ML'] = np.array(ManejoDatos(grad_dask_ml,9).Magnitud()) \n",
    "mesh.set_active_scalars('Gradientes_Dask_ML') \n",
    "mesh.plot()"
   ]
  },
  {
   "cell_type": "code",
   "execution_count": 14,
   "metadata": {},
   "outputs": [
    {
     "name": "stdout",
     "output_type": "stream",
     "text": [
      "Error Promedio 17.9029750796 %\n",
      "None\n"
     ]
    },
    {
     "data": {
      "application/vnd.jupyter.widget-view+json": {
       "model_id": "88235edf95894edb96b673f638c940ab",
       "version_major": 2,
       "version_minor": 0
      },
      "text/plain": [
       "Widget(value=\"<iframe src='http://localhost:34503/index.html?ui=P_0x7f816b057a90_10&reconnect=auto' style='wid…"
      ]
     },
     "metadata": {},
     "output_type": "display_data"
    }
   ],
   "source": [
    "ERROR_daks = error_mesh( ManejoDatos(grad[:,-1],9).Magnitud() ,np.array(ManejoDatos(grad_dask_ml,9).Magnitud()) ) \n",
    "mesh['Error Dask'] = ERROR_daks \n",
    "mesh.set_active_scalars('Error Dask') \n",
    "mesh.plot()"
   ]
  },
  {
   "cell_type": "code",
   "execution_count": 15,
   "metadata": {},
   "outputs": [
    {
     "data": {
      "text/plain": [
       "array([1.76328989, 0.81695443, 0.817     , ..., 0.81737055, 0.81800996,\n",
       "       1.45344889])"
      ]
     },
     "execution_count": 15,
     "metadata": {},
     "output_type": "execute_result"
    }
   ],
   "source": [
    "grad_dask_ml + 0.817"
   ]
  },
  {
   "cell_type": "code",
   "execution_count": null,
   "metadata": {},
   "outputs": [],
   "source": []
  },
  {
   "cell_type": "code",
   "execution_count": null,
   "metadata": {},
   "outputs": [],
   "source": []
  },
  {
   "cell_type": "code",
   "execution_count": null,
   "metadata": {},
   "outputs": [],
   "source": []
  },
  {
   "cell_type": "code",
   "execution_count": null,
   "metadata": {},
   "outputs": [],
   "source": []
  }
 ],
 "metadata": {
  "kernelspec": {
   "display_name": "Python 3",
   "language": "python",
   "name": "python3"
  },
  "language_info": {
   "codemirror_mode": {
    "name": "ipython",
    "version": 3
   },
   "file_extension": ".py",
   "mimetype": "text/x-python",
   "name": "python",
   "nbconvert_exporter": "python",
   "pygments_lexer": "ipython3",
   "version": "3.10.12"
  },
  "orig_nbformat": 4
 },
 "nbformat": 4,
 "nbformat_minor": 2
}
